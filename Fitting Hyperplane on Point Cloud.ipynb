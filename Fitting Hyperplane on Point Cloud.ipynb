{
 "cells": [
  {
   "cell_type": "markdown",
   "metadata": {},
   "source": [
    "## Fitting a hyperplane on a point cloud\n",
    "This notebook generates points around a regular polygon with added gaussian noise, and attempts to fit a hyperplane about one of the sides. The hyperplane to be fit consists of the set of points x which satisfy $$x^Tw+1 = 0$$\n",
    "Stochastic Gradient Descent is used to find the w that minimizes\n",
    "$$ Cost(w) -\\frac{1}{\\left\\Vert\\left(Aw+b  \\rm\\right) \\right\\Vert^2+1}$$\n",
    "Where the rows of A are points in the point cloud, and b is a vector of 1's. This cost funciton is inspired by electrostatic attraction between charged particles. In a sense, this algorithm runs a simulation where each datapoint is given a finite charge, and a massless rod with the opposite charge is dropped on top, then the best fit is determined by where the rod snaps into place. With this model, points near our rod will weigh more heavily on the rod's final resting point than the others. This is not a convex cost function, so many local minima exist, as expected. With random initialization of w, more local optima can be discovered.\n",
    "\n",
    "This method can be generalized for arbitrary dimensions, though doing so would require new methods to generate a point cloud."
   ]
  },
  {
   "cell_type": "code",
   "execution_count": 589,
   "metadata": {
    "collapsed": true
   },
   "outputs": [],
   "source": [
    "import numpy as np\n",
    "import matplotlib.pyplot as plt\n",
    "\n",
    "%matplotlib inline"
   ]
  },
  {
   "cell_type": "code",
   "execution_count": 41,
   "metadata": {},
   "outputs": [],
   "source": [
    "def generatePolygon(n):\n",
    "    assert n >= 3\n",
    "    a = 2*np.pi / n\n",
    "    rot = np.array([[np.cos(a),-np.sin(a)],\n",
    "                     [np.sin(a), np.cos(a)]])\n",
    "    start = np.array([1,0])\n",
    "    corners = np.asarray([np.linalg.matrix_power(rot,i).dot(start) for i in range(n)])\n",
    "    return corners\n",
    "\n",
    "def generateNoisyPolygonCloud(n, num_points, sigma):\n",
    "    corners = generatePolygon(n)\n",
    "    points = []\n",
    "    for i in range(num_points):\n",
    "        edge_num = np.random.randint(n)\n",
    "        edge = [corners[edge_num], corners[(edge_num+1)%n]]\n",
    "        alpha = np.random.rand()\n",
    "        points.append(alpha * edge[0] + (1-alpha) * edge[1] + sigma * np.random.randn(2))\n",
    "    return np.asarray(points)\n",
    "\n"
   ]
  },
  {
   "cell_type": "code",
   "execution_count": 1237,
   "metadata": {},
   "outputs": [
    {
     "data": {
      "image/png": "[encoded data removed]",
      "text/plain": [
       "<matplotlib.figure.Figure at 0x7fe001967be0>"
      ]
     },
     "metadata": {},
     "output_type": "display_data"
    }
   ],
   "source": [
    "'''Generate Polygon'''\n",
    "num_corners = 4\n",
    "num_points = 1000\n",
    "noise_sigma = .02\n",
    "Points = generateNoisyPolygonCloud(num_corners, num_points, noise_sigma)\n",
    "Corners = generatePolygon(num_corners) #display purposes\n",
    "\n",
    "'''Display Polygon'''\n",
    "plt.scatter(*Points.T, label='Points')\n",
    "plt.scatter(*Corners.T, label='Corners')\n",
    "plt.axis('equal')\n",
    "plt.legend()\n",
    "plt.show()"
   ]
  },
  {
   "cell_type": "markdown",
   "metadata": {},
   "source": [
    "## Solving for best fit"
   ]
  },
  {
   "cell_type": "code",
   "execution_count": 1245,
   "metadata": {},
   "outputs": [
    {
     "name": "stdout",
     "output_type": "stream",
     "text": [
      "gradient: [-1.08024700e-13 -1.04749542e-13]\n",
      "loss: -0.023943240206812787\n",
      "w: [ 0.95708425 -0.97740862]\n",
      "null: [-0.71449643 -0.69963909]\n",
      "center: [-0.51144385  0.52230473]\n"
     ]
    },
    {
     "data": {
      "image/png": "[encoded data removed]",
      "text/plain": [
       "<matplotlib.figure.Figure at 0x7fe00194bf28>"
      ]
     },
     "metadata": {},
     "output_type": "display_data"
    }
   ],
   "source": [
    "'''Tuning Parameters'''\n",
    "a\n",
    "num_sgd_iterations = 5000\n",
    "learning_rate = 0.0005\n",
    "\n",
    "'''reset w'''\n",
    "w = np.random.randn(2)\n",
    "\n",
    "'''Inverse Square SGD'''\n",
    "A = Points\n",
    "b = np.ones(A.shape[0])\n",
    "for _ in range(num_sgd_iterations):\n",
    "    Aw_b = A.dot(w) + b\n",
    "    gradient = 2*((Aw_b**2+1)**-2*(Aw_b)).dot(A)\n",
    "    w -= 0.learning_rate * gradient\n",
    "    \n",
    "print(\"gradient:\", gradient)\n",
    "print(\"loss:\",-1/(np.linalg.norm(A.dot(w)+b)+1))\n",
    "\n",
    "'''display fit'''\n",
    "null_w = np.array([w[1], -w[0]])/np.linalg.norm(w)\n",
    "center_w = -w/(w.dot(w))\n",
    "line = np.outer(null_w, np.linspace(-1,1,2)) + np.outer(center_w, np.ones(2))\n",
    "print(\"w:\",w)\n",
    "print(\"null:\", null_w)\n",
    "print(\"center:\",center_w)\n",
    "plt.scatter(*Points.T, label='Points')\n",
    "plt.scatter(*Corners.T, label='Corners')\n",
    "plt.plot(*line, label='fit', color = 'r')\n",
    "plt.axis('equal')\n",
    "plt.legend()\n",
    "plt.show()"
   ]
  },
  {
   "cell_type": "markdown",
   "metadata": {},
   "source": [
    "\n",
    "\n",
    "\n",
    "\n",
    "\n",
    "\n",
    "\n",
    "\n",
    "\n",
    "\n",
    "\n",
    "\n",
    "\n",
    "\n",
    "\n",
    "\n",
    "\n",
    "\n",
    "\n",
    "\n",
    "\n"
   ]
  }
 ],
 "metadata": {
  "kernelspec": {
   "display_name": "Python 3",
   "language": "python",
   "name": "python3"
  },
  "language_info": {
   "codemirror_mode": {
    "name": "ipython",
    "version": 3
   },
   "file_extension": ".py",
   "mimetype": "text/x-python",
   "name": "python",
   "nbconvert_exporter": "python",
   "pygments_lexer": "ipython3",
   "version": "3.6.1"
  }
 },
 "nbformat": 4,
 "nbformat_minor": 2
}
